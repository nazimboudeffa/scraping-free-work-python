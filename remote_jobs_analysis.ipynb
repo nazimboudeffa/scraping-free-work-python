{
 "cells": [
  {
   "cell_type": "code",
   "execution_count": 1,
   "id": "319fb991-d2af-4f2e-b8d6-b6ccdcf6305e",
   "metadata": {},
   "outputs": [],
   "source": [
    "# 📦 Imports nécessaires\n",
    "import pandas as pd"
   ]
  },
  {
   "cell_type": "code",
   "execution_count": 2,
   "id": "58892c3a-db1e-4ace-bd8f-c04ca8dd6c0a",
   "metadata": {},
   "outputs": [],
   "source": [
    "# 📂 Chargement des données\n",
    "df = pd.read_csv(\"output/jobs_infos.csv\")"
   ]
  },
  {
   "cell_type": "code",
   "execution_count": 4,
   "id": "7cd9be51-5b33-4bed-a173-73a6036dec72",
   "metadata": {},
   "outputs": [
    {
     "name": "stdout",
     "output_type": "stream",
     "text": [
      "📌 Nombre total d'offres : 16\n",
      "\n",
      "📌 TJM moyen (hors NaN) : 510.0 €\n",
      "\n",
      "📌 Durée moyenne (en mois) : 8.36\n",
      "\n",
      "📌 Répartition des niveaux d'expérience :\n",
      "EXPERIENCE\n",
      "5 à 10 ans d’expérience    10\n",
      "> 10 ans d’expérience       3\n",
      "2 à 5 ans d’expérience      2\n",
      "< 2 ans d’expérience        1\n",
      "Name: count, dtype: int64\n",
      "\n",
      "📌 Répartition géographique :\n",
      "LOCATION\n",
      "Paris, France                          3\n",
      "Paris, Île-de-France                   2\n",
      "France                                 2\n",
      "Saint-Herblain, Pays de la Loire       2\n",
      "Montpellier, Occitanie                 1\n",
      "Lille, Hauts-de-France                 1\n",
      "Provence-Alpes-Côte d'Azur, France     1\n",
      "Grand Est, France                      1\n",
      "Toulouse, Occitanie                    1\n",
      "Bagneux, Île-de-France                 1\n",
      "Gémenos, Provence-Alpes-Côte d'Azur    1\n",
      "Name: count, dtype: int64\n",
      "\n",
      "📌 Top offres par TJM moyen :\n",
      "                                                TITLE  TJM_moyen\n",
      "3   Lead Architect: Initiative and Team Leadership...      850.0\n",
      "6                   Digital business Solution analyst      790.0\n",
      "1   ELK Senior Consultant: Logboard, Stack Managem...      750.0\n",
      "8                      Architecte Principal IAM (H/F)      600.0\n",
      "4     Développeur Rust - Full remote - Anglais fluent      550.0\n",
      "0                                      UX/UI Designer      550.0\n",
      "10                            Backend Engineer (Node)      450.0\n",
      "2      Consultant SAP ABAP S/4 PI/PO SCPI 100% Remote      400.0\n",
      "12            Lead Développeur C# (H/F) - Télétravail      400.0\n",
      "9       DEVIENS #AUTEUR L'impresison 3D avec SketchUp      300.0\n",
      "11    DEVIENS #AUTEUR Les tests d'intrusion - Pentest      300.0\n",
      "5   Développeur Java Sénior | Casabalanca 100% Remote      180.0\n",
      "7                                 Engineering Manager        NaN\n",
      "13                       Senior integration Architect        NaN\n",
      "14                     DBA DE PRODUCTION ORACLE - H/F        NaN\n",
      "15  Infra DEVOPS - Full Remote -  (Part-time -> 2 ...        NaN\n",
      "\n",
      "📌 Offres sans TJM ou durée renseignée :\n",
      "                                                TITLE  TJM DURATION\n",
      "7                                 Engineering Manager  NaN      NaN\n",
      "13                       Senior integration Architect  NaN  12 mois\n",
      "14                     DBA DE PRODUCTION ORACLE - H/F  NaN      NaN\n",
      "15  Infra DEVOPS - Full Remote -  (Part-time -> 2 ...  NaN  12 mois\n"
     ]
    }
   ],
   "source": [
    "# 🧼 Nettoyage basique des TJM\n",
    "df[\"TJM_min\"] = df[\"TJM\"].str.extract(r'(\\d+)\\s*€')\n",
    "df[\"TJM_max\"] = df[\"TJM\"].str.extract(r'(\\d+)[^0-9]+(\\d+)').iloc[:,1]\n",
    "df[\"TJM_min\"] = pd.to_numeric(df[\"TJM_min\"], errors=\"coerce\")\n",
    "df[\"TJM_max\"] = pd.to_numeric(df[\"TJM_max\"], errors=\"coerce\")\n",
    "df[\"TJM_moyen\"] = df[[\"TJM_min\", \"TJM_max\"]].mean(axis=1)\n",
    "\n",
    "# 🧼 Nettoyage des durées\n",
    "df[\"DURATION_clean\"] = df[\"DURATION\"].str.extract(r'(\\d+)').astype(float)\n",
    "\n",
    "# 📊 Statistiques générales\n",
    "print(\"📌 Nombre total d'offres :\", len(df))\n",
    "print(\"\\n📌 TJM moyen (hors NaN) :\", round(df[\"TJM_moyen\"].mean(), 2), \"€\")\n",
    "\n",
    "# 📌 Durée moyenne (en mois)\n",
    "print(\"\\n📌 Durée moyenne (en mois) :\", round(df[\"DURATION_clean\"].mean(), 2))\n",
    "\n",
    "# 📌 Répartition par expérience\n",
    "print(\"\\n📌 Répartition des niveaux d'expérience :\")\n",
    "print(df[\"EXPERIENCE\"].value_counts())\n",
    "\n",
    "# 📌 Répartition géographique\n",
    "print(\"\\n📌 Répartition géographique :\")\n",
    "print(df[\"LOCATION\"].value_counts())\n",
    "\n",
    "# 📌 Aperçu des offres triées par TJM\n",
    "print(\"\\n📌 Top offres par TJM moyen :\")\n",
    "print(df[[\"TITLE\", \"TJM_moyen\"]].sort_values(by=\"TJM_moyen\", ascending=False))\n",
    "\n",
    "# 📌 Missions sans TJM ou durée renseignée\n",
    "print(\"\\n📌 Offres sans TJM ou durée renseignée :\")\n",
    "print(df[df[\"TJM_moyen\"].isna() | df[\"DURATION_clean\"].isna()][[\"TITLE\", \"TJM\", \"DURATION\"]])"
   ]
  },
  {
   "cell_type": "code",
   "execution_count": null,
   "id": "f3646286-1e05-4c81-94cd-6b122659e6aa",
   "metadata": {},
   "outputs": [],
   "source": []
  }
 ],
 "metadata": {
  "kernelspec": {
   "display_name": "Python 3 (ipykernel)",
   "language": "python",
   "name": "python3"
  },
  "language_info": {
   "codemirror_mode": {
    "name": "ipython",
    "version": 3
   },
   "file_extension": ".py",
   "mimetype": "text/x-python",
   "name": "python",
   "nbconvert_exporter": "python",
   "pygments_lexer": "ipython3",
   "version": "3.13.2"
  }
 },
 "nbformat": 4,
 "nbformat_minor": 5
}
