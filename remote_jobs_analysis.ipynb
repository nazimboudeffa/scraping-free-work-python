{
 "cells": [
  {
   "cell_type": "code",
   "execution_count": 1,
   "id": "319fb991-d2af-4f2e-b8d6-b6ccdcf6305e",
   "metadata": {},
   "outputs": [],
   "source": [
    "# 📦 Imports nécessaires\n",
    "import pandas as pd"
   ]
  },
  {
   "cell_type": "code",
   "execution_count": 12,
   "id": "58892c3a-db1e-4ace-bd8f-c04ca8dd6c0a",
   "metadata": {},
   "outputs": [],
   "source": [
    "# 📂 Chargement des données\n",
    "df = pd.read_csv(\"output/jobs_infos.csv\")"
   ]
  },
  {
   "cell_type": "code",
   "execution_count": 13,
   "id": "7cd9be51-5b33-4bed-a173-73a6036dec72",
   "metadata": {},
   "outputs": [
    {
     "name": "stdout",
     "output_type": "stream",
     "text": [
      "📌 Nombre total d'offres : 64\n",
      "\n",
      "📌 TJM moyen (hors NaN) : 468.71 €\n",
      "\n",
      "📌 Durée moyenne (en mois) : 9.92\n",
      "\n",
      "📌 Répartition des niveaux d'expérience :\n",
      "EXPERIENCE\n",
      "5 à 10 ans d’expérience    43\n",
      "2 à 5 ans d’expérience     13\n",
      "> 10 ans d’expérience       7\n",
      "< 2 ans d’expérience        1\n",
      "Name: count, dtype: int64\n",
      "\n",
      "📌 Répartition géographique :\n",
      "LOCATION\n",
      "Paris, France                                  17\n",
      "Paris, Île-de-France                            6\n",
      "Saint-Herblain, Pays de la Loire                5\n",
      "France                                          4\n",
      "Lille, Hauts-de-France                          3\n",
      "Toulouse, Occitanie                             3\n",
      "Lyon, Auvergne-Rhône-Alpes                      3\n",
      "Montpellier, Occitanie                          2\n",
      "Provence-Alpes-Côte d'Azur, France              1\n",
      "Bagneux, Île-de-France                          1\n",
      "Gémenos, Provence-Alpes-Côte d'Azur             1\n",
      "Île-de-France, France                           1\n",
      "Grand Est, France                               1\n",
      "Aix-en-Provence, Provence-Alpes-Côte d'Azur     1\n",
      "Marignane, Provence-Alpes-Côte d'Azur           1\n",
      "Strasbourg, Grand Est                           1\n",
      "Nice, Provence-Alpes-Côte d'Azur                1\n",
      "Rennes, Bretagne                                1\n",
      "Châteauroux, Centre-Val de Loire                1\n",
      "Bordeaux, Nouvelle-Aquitaine                    1\n",
      "Suisse                                          1\n",
      "Issy-les-Moulineaux, Île-de-France              1\n",
      "Valmascle, Occitanie                            1\n",
      "Montreuil, Île-de-France                        1\n",
      "Toulouse, France                                1\n",
      "Casablanca, Casablanca-Settat, Maroc            1\n",
      "Barcelone, Catalogne, Espagne                   1\n",
      "Maroc                                           1\n",
      "Nantes, Pays de la Loire                        1\n",
      "Name: count, dtype: int64\n",
      "\n",
      "📌 Top offres par TJM moyen :\n",
      "                                                TITLE  TJM_moyen\n",
      "53                   CLOUD analyst - Azure AWS Finops      900.0\n",
      "3   Lead Architect: Initiative and Team Leadership...      850.0\n",
      "47  consultant fonctionnel D365 CRM/Sales (Lead an...      810.0\n",
      "6                   Digital business Solution analyst      790.0\n",
      "58                                  Keycloak auditeur      780.0\n",
      "..                                                ...        ...\n",
      "15  Infra DEVOPS - Full Remote -  (Part-time -> 2 ...        NaN\n",
      "23                          Développeur windev mobile        NaN\n",
      "31         Un Administrateur pour la solution ERP VIF        NaN\n",
      "49  Senior Salesforce Marketing Cloud Front-end De...        NaN\n",
      "61                                 Consultant SAP ISH        NaN\n",
      "\n",
      "[64 rows x 2 columns]\n",
      "\n",
      "📌 Offres sans TJM ou durée renseignée :\n",
      "                                                TITLE           TJM   DURATION\n",
      "7                                 Engineering Manager           NaN        NaN\n",
      "13                       Senior integration Architect           NaN    12 mois\n",
      "14                     DBA DE PRODUCTION ORACLE - H/F           NaN        NaN\n",
      "15  Infra DEVOPS - Full Remote -  (Part-time -> 2 ...           NaN    12 mois\n",
      "23                          Développeur windev mobile      46k €⁄an     3 mois\n",
      "31         Un Administrateur pour la solution ERP VIF           NaN  149 jours\n",
      "37  Développeur MS Dynamics Business Central - Rem...  45k-60k €⁄an        NaN\n",
      "49  Senior Salesforce Marketing Cloud Front-end De...           NaN     6 mois\n",
      "61                                 Consultant SAP ISH           NaN    5 jours\n"
     ]
    }
   ],
   "source": [
    "# 🧼 Nettoyage basique des TJM\n",
    "df[\"TJM_min\"] = df[\"TJM\"].str.extract(r'(\\d+)\\s*€')\n",
    "df[\"TJM_max\"] = df[\"TJM\"].str.extract(r'(\\d+)[^0-9]+(\\d+)').iloc[:,1]\n",
    "df[\"TJM_min\"] = pd.to_numeric(df[\"TJM_min\"], errors=\"coerce\")\n",
    "df[\"TJM_max\"] = pd.to_numeric(df[\"TJM_max\"], errors=\"coerce\")\n",
    "df[\"TJM_moyen\"] = df[[\"TJM_min\", \"TJM_max\"]].mean(axis=1)\n",
    "\n",
    "# 🧼 Nettoyage des durées\n",
    "df[\"DURATION_clean\"] = df[\"DURATION\"].str.extract(r'(\\d+)').astype(float)\n",
    "\n",
    "# 📊 Statistiques générales\n",
    "print(\"📌 Nombre total d'offres :\", len(df))\n",
    "print(\"\\n📌 TJM moyen (hors NaN) :\", round(df[\"TJM_moyen\"].mean(), 2), \"€\")\n",
    "\n",
    "# 📌 Durée moyenne (en mois)\n",
    "print(\"\\n📌 Durée moyenne (en mois) :\", round(df[\"DURATION_clean\"].mean(), 2))\n",
    "\n",
    "# 📌 Répartition par expérience\n",
    "print(\"\\n📌 Répartition des niveaux d'expérience :\")\n",
    "print(df[\"EXPERIENCE\"].value_counts())\n",
    "\n",
    "# 📌 Répartition géographique\n",
    "print(\"\\n📌 Répartition géographique :\")\n",
    "print(df[\"LOCATION\"].value_counts())\n",
    "\n",
    "# 📌 Aperçu des offres triées par TJM\n",
    "print(\"\\n📌 Top offres par TJM moyen :\")\n",
    "print(df[[\"TITLE\", \"TJM_moyen\"]].sort_values(by=\"TJM_moyen\", ascending=False))\n",
    "\n",
    "# 📌 Missions sans TJM ou durée renseignée\n",
    "print(\"\\n📌 Offres sans TJM ou durée renseignée :\")\n",
    "print(df[df[\"TJM_moyen\"].isna() | df[\"DURATION_clean\"].isna()][[\"TITLE\", \"TJM\", \"DURATION\"]])"
   ]
  },
  {
   "cell_type": "code",
   "execution_count": 30,
   "id": "f3646286-1e05-4c81-94cd-6b122659e6aa",
   "metadata": {},
   "outputs": [
    {
     "name": "stdout",
     "output_type": "stream",
     "text": [
      "\n",
      "🎯 Offres contenant le skill 'python':\n",
      "                                              TITLE  \\\n",
      "4   Développeur Rust - Full remote - Anglais fluent   \n",
      "21      Data Engineer Dev Palantir Skywise & Python   \n",
      "55                                 Ingénieur DevOps   \n",
      "\n",
      "                                               SKILLS  \\\n",
      "4                                  ['Python', 'Rust']   \n",
      "21                                         ['Python']   \n",
      "55  ['Agile Scrum', 'Apache Kafka', 'Bash', 'BigQu...   \n",
      "\n",
      "                                 LOCATION  \n",
      "4                           Paris, France  \n",
      "21  Marignane, Provence-Alpes-Côte d'Azur  \n",
      "55                                  Maroc  \n"
     ]
    }
   ],
   "source": [
    "# 🔍 Définir le skill à chercher\n",
    "skill = \"python\"\n",
    "\n",
    "# 🧼 Nettoyer un peu le texte : on peut tout passer en minuscule pour éviter les problèmes de casse\n",
    "df[\"SKILLS_str\"] = df[\"SKILLS\"].fillna(\"\").str.lower()\n",
    "\n",
    "# 🔍 Filtrer les lignes contenant le mot-clé (skill)\n",
    "filtered = df[df[\"SKILLS_str\"].str.contains(skill.lower())]\n",
    "\n",
    "# 🖨️ Résultat\n",
    "print(f\"\\n🎯 Offres contenant le skill '{skill}':\")\n",
    "print(filtered[[\"TITLE\", \"SKILLS\", \"LOCATION\"]])"
   ]
  },
  {
   "cell_type": "code",
   "execution_count": 21,
   "id": "07ceaa59-8d5d-471a-8cce-4b6676cc6449",
   "metadata": {},
   "outputs": [
    {
     "name": "stdout",
     "output_type": "stream",
     "text": [
      "💡 Compétences les plus demandées :\n",
      "sap: 8 fois\n",
      "java: 4 fois\n",
      "python: 3 fois\n",
      "cybersécurité: 3 fois\n",
      ".net: 3 fois\n",
      "aws cloud: 2 fois\n",
      "iam: 2 fois\n",
      "pentesting: 2 fois\n",
      "devops: 2 fois\n",
      "endpoint detection and response (edr): 2 fois\n"
     ]
    }
   ],
   "source": [
    "from collections import Counter\n",
    "import re\n",
    "\n",
    "# 🧼 Convertir tous les skills en minuscules, nettoyer les crochets et guillemets\n",
    "skills_series = df[\"SKILLS\"].dropna().str.lower()\n",
    "\n",
    "# 🔍 Extraire tous les mots entre quotes avec regex\n",
    "all_skills = []\n",
    "\n",
    "for skills_str in skills_series:\n",
    "    # On extrait tous les mots entre quotes simples : 'python', 'rust'...\n",
    "    skills = re.findall(r\"'([^']+)'\", skills_str)\n",
    "    all_skills.extend(skills)\n",
    "\n",
    "# 🧮 Compter les occurrences\n",
    "skill_counts = Counter(all_skills)\n",
    "\n",
    "# 🔝 Afficher le top 10\n",
    "print(\"💡 Compétences les plus demandées :\")\n",
    "for skill, count in skill_counts.most_common(10):\n",
    "    print(f\"{skill}: {count} fois\")"
   ]
  },
  {
   "cell_type": "code",
   "execution_count": null,
   "id": "af9d991b-d986-42ca-9a66-b236c6864a7d",
   "metadata": {},
   "outputs": [],
   "source": []
  }
 ],
 "metadata": {
  "kernelspec": {
   "display_name": "Python 3 (ipykernel)",
   "language": "python",
   "name": "python3"
  },
  "language_info": {
   "codemirror_mode": {
    "name": "ipython",
    "version": 3
   },
   "file_extension": ".py",
   "mimetype": "text/x-python",
   "name": "python",
   "nbconvert_exporter": "python",
   "pygments_lexer": "ipython3",
   "version": "3.13.2"
  }
 },
 "nbformat": 4,
 "nbformat_minor": 5
}
