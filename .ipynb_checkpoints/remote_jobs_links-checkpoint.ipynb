{
 "cells": [
  {
   "cell_type": "code",
   "execution_count": 34,
   "id": "67edc2b4-d1a7-439d-8633-56973f0fa976",
   "metadata": {},
   "outputs": [],
   "source": [
    "import requests as rq\n",
    "from bs4 import BeautifulSoup as bs\n",
    "import pandas as pd\n",
    "from time import sleep\n",
    "from random import randint\n",
    "import re"
   ]
  },
  {
   "cell_type": "code",
   "execution_count": 35,
   "id": "e9702fc9-60bc-404a-8e2c-2983fe362913",
   "metadata": {},
   "outputs": [],
   "source": [
    "# Define a dictionary headers to store the User-Agent string for the request\n",
    "headers = {'User-Agent': 'Mozilla/5.0 (Windows NT 10.0;Win64) AppleWebkit/537.36 (KHTML, like Gecko) Chrome/89.0.4389.82 Safari/537.36'}"
   ]
  },
  {
   "cell_type": "code",
   "execution_count": 45,
   "id": "dea642f7-8a58-4bb8-973b-f3ca51e5705f",
   "metadata": {},
   "outputs": [],
   "source": [
    "# Store a list of URLs for 10 top football teams\n",
    "pages = [\n",
    "    'https://www.free-work.com/fr/tech-it/jobs?remote=full&page=1'\n",
    "]"
   ]
  },
  {
   "cell_type": "code",
   "execution_count": 72,
   "id": "affafe14-98cd-43dc-ab27-2e883f46e9be",
   "metadata": {},
   "outputs": [
    {
     "name": "stdout",
     "output_type": "stream",
     "text": [
      "/fr/tech-it/consultant-microsoft-sharepoint-365/job-mission/technical-architect-lead-infrastructure-team-management-remote-working-h-f\n",
      "/fr/tech-it/developpeur-autre-langage-cobol-perl-vba-ruby-shell/job-mission/developpeur-rust-full-remote-2\n",
      "/fr/tech-it/developpeur-java-kotlin-groovy-scala/job-mission/developpeur-front-end-expert-angular-casabalanca-100-remote\n",
      "/fr/tech-it/business-analyst/job-mission/digital-business-solution-analyst\n",
      "/fr/tech-it/community-manager-social-media-manager/job-mission/engineering-manager-40\n",
      "/fr/tech-it/architecte-de-base-de-donnees/job-mission/architecte-principal-iam-h-f\n",
      "/fr/tech-it/autre/job-mission/deviens-auteur-limpresison-3d-avec-sketchup-1\n",
      "/fr/tech-it/developpeur-front-end-javascript-node-react-angular-vue/job-mission/backend-engineer-node\n",
      "/fr/tech-it/autre/job-mission/deviens-auteur-les-tests-dintrusion-pentest-2\n",
      "/fr/tech-it/developpeur-autre-langage-cobol-perl-vba-ruby-shell/job-mission/lead-developpeur-c-h-f-teletravail\n",
      "/fr/tech-it/autre/job-mission/senior-integration-architect-1\n",
      "/fr/tech-it/administrateur-de-base-de-donnee-oracle-sybase/job-mission/dba-de-production-oracle-h-f\n",
      "/fr/tech-it/ingenieur-devops-cloud/job-mission/infra-devops-full-remote-part-time-2-ou-3-j-semaine\n",
      "/fr/tech-it/scrum-master/job-mission/scrum-master-senior-fluent-anglais-30\n",
      "/fr/tech-it/developpeur-front-end-javascript-node-react-angular-vue/job-mission/developpeur-node-js-87\n",
      "/fr/tech-it/autre/job-mission/specialiste-divalto-h-f-au-canada\n"
     ]
    }
   ],
   "source": [
    "# Initialize an empty list to store player links\n",
    "jobs = []\n",
    "\n",
    "# Loop through the teams list\n",
    "for page in pages:      \n",
    "    # Use a while loop to ensure the code runs until the data is extracted\n",
    "    while True:\n",
    "        try:\n",
    "            # Make a GET request to the link\n",
    "            request = rq.get(page,headers=headers)\n",
    "        \n",
    "            # Sélectionner toutes les cartes/offres\n",
    "            offres = soup.find_all(\"h2\")\n",
    "                       \n",
    "            # Break out of the loop if the request is successful\n",
    "            break\n",
    "        except AttributeError:\n",
    "            # Print error message and wait for 10 seconds before retrying\n",
    "            print('Index Error : Sleeping for 10 seconds before retrying')\n",
    "            sleep(10)\n",
    "    try:\n",
    "        # Boucle sur chaque offre\n",
    "        for offre in offres:\n",
    "            \n",
    "            # Trouver tous les liens contenant \"tech-it\" mais excluant ceux contenant \"tech-it/jobs\"\n",
    "            liens_tech_it = [a['href'] for a in offre.find_all('a', href=True) if 'tech-it' in a['href']]\n",
    "            for lien in liens_tech_it:\n",
    "                print(lien)\n",
    "            jobs.extend(liens_tech_it)\n",
    "\n",
    "    except IndexError:\n",
    "        print ('not found')"
   ]
  },
  {
   "cell_type": "code",
   "execution_count": 73,
   "id": "92a2da93-d617-4311-afc4-acf82fc7f947",
   "metadata": {},
   "outputs": [],
   "source": [
    "# Create a dictionary with the key 'URL' and values 'players'\n",
    "dict_jobs = {'URL' : jobs}\n",
    "\n",
    "# Convert the dictionary to a pandas dataframe 'df'\n",
    "df = pd.DataFrame(dict_jobs)\n",
    "\n",
    "# Remove duplicates in the 'URL' column\n",
    "df = df.drop_duplicates(subset = 'URL')\n",
    "\n",
    "# Reset the index of the dataframe to start from 0\n",
    "df.index = range(0,len(df))\n",
    "\n",
    "# Prefix the 'URL' column with 'https://www.transfermarkt.com'\n",
    "df['URL'] = 'https://www.free-work.com' + df['URL'].astype(str)\n",
    "\n",
    "# Write the dataframe to a csv file at 'output/player_links.csv'\n",
    "df.to_csv('output/jobs_links.csv')"
   ]
  },
  {
   "cell_type": "code",
   "execution_count": null,
   "id": "99bcf852-b0c3-437e-a2e1-aa2586ad0064",
   "metadata": {},
   "outputs": [],
   "source": []
  }
 ],
 "metadata": {
  "kernelspec": {
   "display_name": "Python 3 (ipykernel)",
   "language": "python",
   "name": "python3"
  },
  "language_info": {
   "codemirror_mode": {
    "name": "ipython",
    "version": 3
   },
   "file_extension": ".py",
   "mimetype": "text/x-python",
   "name": "python",
   "nbconvert_exporter": "python",
   "pygments_lexer": "ipython3",
   "version": "3.13.2"
  }
 },
 "nbformat": 4,
 "nbformat_minor": 5
}
