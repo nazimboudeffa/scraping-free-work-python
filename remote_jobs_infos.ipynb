{
 "cells": [
  {
   "cell_type": "code",
   "execution_count": 9,
   "id": "afa0b30b-f83b-4a10-893b-7bf77ae1ed01",
   "metadata": {},
   "outputs": [],
   "source": [
    "import requests as rq\n",
    "from bs4 import BeautifulSoup as bs\n",
    "import pandas as pd\n",
    "from time import sleep\n",
    "from random import randint"
   ]
  },
  {
   "cell_type": "code",
   "execution_count": 10,
   "id": "cbdbbd1c-96bd-4ef7-84cf-e441fd9d8251",
   "metadata": {},
   "outputs": [],
   "source": [
    "# Define a dictionary headers to store the User-Agent string for the request\n",
    "headers = {'User-Agent': 'Mozilla/5.0 (Windows NT 10.0;Win64) AppleWebkit/537.36 (KHTML, like Gecko) Chrome/89.0.4389.82 Safari/537.36'}"
   ]
  },
  {
   "cell_type": "code",
   "execution_count": 11,
   "id": "b1997b9d-7e63-422a-9bd0-f16b648a9cd5",
   "metadata": {},
   "outputs": [],
   "source": [
    "# Read the player links from the csv file\n",
    "df_links = pd.read_csv('output/jobs_links.csv')\n",
    "\n",
    "# Convert the 'URL' column of the dataframe to a list\n",
    "links = df_links['URL'].tolist()"
   ]
  },
  {
   "cell_type": "code",
   "execution_count": null,
   "id": "6b0e7b51-34a3-433e-af40-49f7b626414d",
   "metadata": {},
   "outputs": [],
   "source": [
    "list_of_row_dicts = []\n",
    "for link in links:\n",
    "\n",
    "    # Keep trying until the request is successful\n",
    "    while True:\n",
    "        try:\n",
    "            # Make a GET request to the link\n",
    "            request = rq.get(link,headers=headers)\n",
    "        \n",
    "            # Use BeautifulSoup to parse the HTML content of the page\n",
    "            soup = bs(request.text, 'html.parser')\n",
    "\n",
    "            # Find all <span> tags in the HTML\n",
    "            title_spans = soup.find_all('span')\n",
    "                       \n",
    "            # Break out of the loop if the request is successful\n",
    "            break\n",
    "        except AttributeError:\n",
    "            # Print error message and wait for 10 seconds before retrying\n",
    "            print('Index Error : Sleeping for 10 seconds before retrying')\n",
    "            sleep(10)\n",
    "\n",
    "    try:\n",
    "        title = ' '.join([word for word in soup.find('h1').text.split() if not any(i.isdigit() for i in word)]).strip()\n",
    "    except IndexError:\n",
    "        title = None\n",
    "        print ('title not found')\n",
    "\n",
    "    try:\n",
    "        tjm = [span.text for span in title_spans if '€⁄j' in span.text][0].strip()\n",
    "    except IndexError:\n",
    "        tjm = None\n",
    "        print ('tjm not found')\n",
    "    \n",
    "    row_dic = {\n",
    "    'JOB_URL' : link,\n",
    "    'TITLE' : title,\n",
    "    'TJM' : tjm,\n",
    "    }\n",
    "    list_of_row_dicts.append(row_dic)\n",
    "            \n",
    "    print(title,',',tjm)\n",
    "    sleep(randint(1,3))\n",
    "    \n",
    "df = pd.DataFrame(list_of_row_dicts)"
   ]
  },
  {
   "cell_type": "code",
   "execution_count": 8,
   "id": "ca55371f-c16b-4d36-bda9-87cc39d70a6b",
   "metadata": {},
   "outputs": [
    {
     "ename": "NameError",
     "evalue": "name 'df' is not defined",
     "output_type": "error",
     "traceback": [
      "\u001b[31m---------------------------------------------------------------------------\u001b[39m",
      "\u001b[31mNameError\u001b[39m                                 Traceback (most recent call last)",
      "\u001b[36mCell\u001b[39m\u001b[36m \u001b[39m\u001b[32mIn[8]\u001b[39m\u001b[32m, line 1\u001b[39m\n\u001b[32m----> \u001b[39m\u001b[32m1\u001b[39m \u001b[43mdf\u001b[49m.to_csv(\u001b[33m'\u001b[39m\u001b[33moutput/jobs_infos.csv\u001b[39m\u001b[33m'\u001b[39m)\n",
      "\u001b[31mNameError\u001b[39m: name 'df' is not defined"
     ]
    }
   ],
   "source": [
    "df.to_csv('output/jobs_infos.csv')"
   ]
  },
  {
   "cell_type": "code",
   "execution_count": null,
   "id": "2f0dc544-bb71-4913-872a-069c4b81c8f1",
   "metadata": {},
   "outputs": [],
   "source": []
  }
 ],
 "metadata": {
  "kernelspec": {
   "display_name": "Python 3 (ipykernel)",
   "language": "python",
   "name": "python3"
  },
  "language_info": {
   "codemirror_mode": {
    "name": "ipython",
    "version": 3
   },
   "file_extension": ".py",
   "mimetype": "text/x-python",
   "name": "python",
   "nbconvert_exporter": "python",
   "pygments_lexer": "ipython3",
   "version": "3.13.2"
  }
 },
 "nbformat": 4,
 "nbformat_minor": 5
}
