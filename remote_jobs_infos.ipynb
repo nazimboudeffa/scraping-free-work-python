{
 "cells": [
  {
   "cell_type": "code",
   "execution_count": 34,
   "id": "67edc2b4-d1a7-439d-8633-56973f0fa976",
   "metadata": {},
   "outputs": [],
   "source": [
    "import requests as rq\n",
    "from bs4 import BeautifulSoup as bs\n",
    "import pandas as pd\n",
    "from time import sleep\n",
    "from random import randint\n",
    "import re"
   ]
  },
  {
   "cell_type": "code",
   "execution_count": 35,
   "id": "e9702fc9-60bc-404a-8e2c-2983fe362913",
   "metadata": {},
   "outputs": [],
   "source": [
    "# Define a dictionary headers to store the User-Agent string for the request\n",
    "headers = {'User-Agent': 'Mozilla/5.0 (Windows NT 10.0;Win64) AppleWebkit/537.36 (KHTML, like Gecko) Chrome/89.0.4389.82 Safari/537.36'}"
   ]
  },
  {
   "cell_type": "code",
   "execution_count": 45,
   "id": "dea642f7-8a58-4bb8-973b-f3ca51e5705f",
   "metadata": {},
   "outputs": [],
   "source": [
    "# Store a list of URLs for 10 top football teams\n",
    "pages = [\n",
    "    'https://www.free-work.com/fr/tech-it/jobs?remote=full&page=1'\n",
    "]"
   ]
  },
  {
   "cell_type": "code",
   "execution_count": 53,
   "id": "affafe14-98cd-43dc-ab27-2e883f46e9be",
   "metadata": {},
   "outputs": [
    {
     "name": "stdout",
     "output_type": "stream",
     "text": [
      "Lead Architect: Initiative and Team Leadership, Microsoft, Azure, Office 365 Remote Working (h/f)\n",
      "Développeur Rust - Full remote - Anglais fluent\n",
      "Développeur Java Sénior | Casabalanca 100% Remote\n",
      "Digital business Solution analyst\n",
      "Engineering Manager\n",
      "Architecte Principal IAM (H/F)\n",
      "DEVIENS #AUTEUR L'impresison 3D avec SketchUp\n",
      "Backend Engineer (Node)\n",
      "DEVIENS #AUTEUR Les tests d'intrusion - Pentest\n",
      "Lead Développeur C# (H/F) - Télétravail\n",
      "Senior integration Architect\n",
      "DBA DE PRODUCTION ORACLE - H/F\n",
      "Infra DEVOPS - Full Remote -  (Part-time -> 2 ou 3 j / semaine)\n",
      "SCRUM MASTER SENIOR FLUENT ANGLAIS\n",
      "Développeur Node.js\n",
      "Spécialiste Divalto (H/F) au CANADA\n",
      "Titre non trouvé\n"
     ]
    }
   ],
   "source": [
    "# Initialize an empty list to store player links\n",
    "jobs = []\n",
    "\n",
    "# Loop through the teams list\n",
    "for page in pages:      \n",
    "    # Use a while loop to ensure the code runs until the data is extracted\n",
    "    while True:\n",
    "        try:\n",
    "            # Make a GET request to the link\n",
    "            request = rq.get(page,headers=headers)\n",
    "        \n",
    "            # Sélectionner toutes les cartes/offres\n",
    "            offres = soup.select(\"div.p-4\")\n",
    "                       \n",
    "            # Break out of the loop if the request is successful\n",
    "            break\n",
    "        except AttributeError:\n",
    "            # Print error message and wait for 10 seconds before retrying\n",
    "            print('Index Error : Sleeping for 10 seconds before retrying')\n",
    "            sleep(10)\n",
    "    try:\n",
    "        # Boucle sur chaque offre\n",
    "        for offre in offres:\n",
    "            \n",
    "            # Titre de l'offre\n",
    "            titre_elem = offre.select_one(\"h2.font-semibold.text-xl.mb-4 a\")\n",
    "            titre = titre_elem.get_text(strip=True) if titre_elem else \"Titre non trouvé\"\n",
    "                \n",
    "            row_dic = {\n",
    "            'TITLE' : titre,\n",
    "            }\n",
    "            jobs.append(row_dic)\n",
    "                    \n",
    "            print(titre)\n",
    "    except IndexError:\n",
    "        print ('not found')"
   ]
  },
  {
   "cell_type": "code",
   "execution_count": null,
   "id": "92a2da93-d617-4311-afc4-acf82fc7f947",
   "metadata": {},
   "outputs": [],
   "source": []
  }
 ],
 "metadata": {
  "kernelspec": {
   "display_name": "Python 3 (ipykernel)",
   "language": "python",
   "name": "python3"
  },
  "language_info": {
   "codemirror_mode": {
    "name": "ipython",
    "version": 3
   },
   "file_extension": ".py",
   "mimetype": "text/x-python",
   "name": "python",
   "nbconvert_exporter": "python",
   "pygments_lexer": "ipython3",
   "version": "3.13.2"
  }
 },
 "nbformat": 4,
 "nbformat_minor": 5
}
